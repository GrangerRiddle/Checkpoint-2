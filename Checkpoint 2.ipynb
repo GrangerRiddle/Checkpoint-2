{
 "cells": [
  {
   "cell_type": "code",
   "execution_count": 6,
   "id": "a32cfde3",
   "metadata": {},
   "outputs": [
    {
     "name": "stdout",
     "output_type": "stream",
     "text": [
      "First Name: FatimaEzzahrae\n",
      "Last Name: Guerboub\n",
      "Guerboub FatimaEzzahrae\n"
     ]
    }
   ],
   "source": [
    "# Question 1\n",
    "first_name = input(\"First Name: \")\n",
    "last_name = input(\"Last Name: \")\n",
    "print(last_name, first_name)"
   ]
  },
  {
   "cell_type": "code",
   "execution_count": 7,
   "id": "51d58609",
   "metadata": {},
   "outputs": [
    {
     "name": "stdout",
     "output_type": "stream",
     "text": [
      "Integer: 5\n",
      "615\n"
     ]
    }
   ],
   "source": [
    "# Question 2\n",
    "n = input(\"Integer: \")\n",
    "nn = n+n\n",
    "nnn = n+n+n\n",
    "n = int(n)\n",
    "nn = int(nn)\n",
    "nnn = int(nnn)\n",
    "print(n+nn+nnn)"
   ]
  },
  {
   "cell_type": "code",
   "execution_count": 8,
   "id": "368969b0",
   "metadata": {},
   "outputs": [
    {
     "name": "stdout",
     "output_type": "stream",
     "text": [
      "Number: -5\n",
      "-5 is an odd number.\n"
     ]
    }
   ],
   "source": [
    "# Question 3\n",
    "x = int(input(\"Number: \"))\n",
    "if (x%2) == 0:\n",
    "    print(x, \"is an even number.\")\n",
    "else:\n",
    "    print(x, \"is an odd number.\")"
   ]
  },
  {
   "cell_type": "code",
   "execution_count": 9,
   "id": "708b3f8e",
   "metadata": {},
   "outputs": [
    {
     "name": "stdout",
     "output_type": "stream",
     "text": [
      "2002/2009/2016/2023/2037/2044/2051/2058/2072/2079/2086/2093/2107/2114/2121/2128/2142/2149/2156/2163/2177/2184/2191/2198/2212/2219/2226/2233/2247/2254/2261/2268/2282/2289/2296/2303/2317/2324/2331/2338/2352/2359/2366/2373/2387/2394/2401/2408/2422/2429/2436/2443/2457/2464/2471/2478/2492/2499/2506/2513/2527/2534/2541/2548/2562/2569/2576/2583/2597/2604/2611/2618/2632/2639/2646/2653/2667/2674/2681/2688/2702/2709/2716/2723/2737/2744/2751/2758/2772/2779/2786/2793/2807/2814/2821/2828/2842/2849/2856/2863/2877/2884/2891/2898/2912/2919/2926/2933/2947/2954/2961/2968/2982/2989/2996/3003/3017/3024/3031/3038/3052/3059/3066/3073/3087/3094/3101/3108/3122/3129/3136/3143/3157/3164/3171/3178/3192/3199/"
     ]
    }
   ],
   "source": [
    "# Question 4\n",
    "for x in range(2000,3201):\n",
    "    if (x%7)==0 and (x%5)>0:\n",
    "        print(x, end=\"/\")"
   ]
  },
  {
   "cell_type": "code",
   "execution_count": 10,
   "id": "0e1ad335",
   "metadata": {},
   "outputs": [
    {
     "name": "stdout",
     "output_type": "stream",
     "text": [
      "Number: 8\n",
      "40320\n"
     ]
    }
   ],
   "source": [
    "# Question 5\n",
    "import math\n",
    "x = int(input(\"Number: \"))\n",
    "print(math.factorial(x))"
   ]
  },
  {
   "cell_type": "code",
   "execution_count": 12,
   "id": "cd49c277",
   "metadata": {
    "scrolled": true
   },
   "outputs": [
    {
     "name": "stdout",
     "output_type": "stream",
     "text": [
      "String: Hello Team\n",
      "HloTa"
     ]
    }
   ],
   "source": [
    "# Question 6\n",
    "string = input(\"String: \")\n",
    "len_string = len(string)\n",
    "for x in range(len_string):\n",
    "    if (x%2)==0:\n",
    "        print(string[x], end=\"\")"
   ]
  },
  {
   "cell_type": "code",
   "execution_count": 13,
   "id": "ac92f5b3",
   "metadata": {},
   "outputs": [
    {
     "name": "stdout",
     "output_type": "stream",
     "text": [
      "Price: 500\n",
      "The reduced price is 250.0\n"
     ]
    }
   ],
   "source": [
    "# Question 7\n",
    "price = input(\"Price: \")\n",
    "price = int(price)\n",
    "if price>=500:\n",
    "     reduced_price = price-((50/100)*price)\n",
    "elif price>=200 and price<500:\n",
    "    reduced_price = price-((30/100)*price)\n",
    "else:\n",
    "    reduced_price = price-((10/100)*price)\n",
    "print(\"The reduced price is \"+ str(reduced_price))"
   ]
  }
 ],
 "metadata": {
  "kernelspec": {
   "display_name": "Python 3",
   "language": "python",
   "name": "python3"
  },
  "language_info": {
   "codemirror_mode": {
    "name": "ipython",
    "version": 3
   },
   "file_extension": ".py",
   "mimetype": "text/x-python",
   "name": "python",
   "nbconvert_exporter": "python",
   "pygments_lexer": "ipython3",
   "version": "3.8.8"
  }
 },
 "nbformat": 4,
 "nbformat_minor": 5
}
